{
 "cells": [
  {
   "cell_type": "code",
   "execution_count": 3,
   "metadata": {},
   "outputs": [],
   "source": [
    "from pydrive.auth import GoogleAuth\n",
    "from pydrive.drive import GoogleDrive"
   ]
  },
  {
   "cell_type": "code",
   "execution_count": 4,
   "metadata": {},
   "outputs": [],
   "source": [
    "import os\n",
    "from zipfile import ZipFile\n",
    "from shutil import make_archive"
   ]
  },
  {
   "cell_type": "code",
   "execution_count": 5,
   "metadata": {},
   "outputs": [],
   "source": [
    "gauth = GoogleAuth()\n",
    "# Try to load saved client credentials\n",
    "gauth.LoadCredentialsFile(\"mycreds.txt\")\n",
    "if gauth.credentials is None:\n",
    "    # Authenticate if they're not there\n",
    "    gauth.LocalWebserverAuth()\n",
    "elif gauth.access_token_expired:\n",
    "    # Refresh them if expired\n",
    "    gauth.Refresh()\n",
    "else:\n",
    "    # Initialize the saved creds\n",
    "    gauth.Authorize()\n",
    "# Save the current credentials to a file\n",
    "gauth.SaveCredentialsFile(\"mycreds.txt\")"
   ]
  },
  {
   "cell_type": "code",
   "execution_count": 6,
   "metadata": {},
   "outputs": [],
   "source": [
    "drive = GoogleDrive(gauth)"
   ]
  },
  {
   "cell_type": "markdown",
   "metadata": {},
   "source": [
    "textfile = drive.CreateFile()  \n",
    "textfile.SetContentFile('eng.txt')  \n",
    "textfile.Upload()  \n",
    "print(textfile)  \n",
    "drive.CreateFile({'id':textfile['id']}).GetContentFile('eng-dl.txt')"
   ]
  },
  {
   "cell_type": "code",
   "execution_count": 7,
   "metadata": {},
   "outputs": [
    {
     "data": {
      "text/plain": [
       "'C:\\\\MyPhytonPrivado\\\\MyNotes\\\\notebook\\\\BATERIAS.zip'"
      ]
     },
     "execution_count": 7,
     "metadata": {},
     "output_type": "execute_result"
    }
   ],
   "source": [
    "make_archive('BATERIAS', 'zip', 'F:\\Sistema\\Bd')"
   ]
  },
  {
   "cell_type": "markdown",
   "metadata": {},
   "source": [
    "file2 = drive.CreateFile({'title': 'BATERIAS.zip'})  \n",
    "file2.SetContentFile('C:\\\\MyPhytonPrivado\\\\MyNotes\\\\notebook\\\\BATERIAS.zip')  \n",
    "file2.Upload()  "
   ]
  },
  {
   "cell_type": "code",
   "execution_count": 9,
   "metadata": {},
   "outputs": [
    {
     "name": "stdout",
     "output_type": "stream",
     "text": [
      "passou\n"
     ]
    }
   ],
   "source": [
    "file_list = drive.ListFile({'q': \"'root' in parents and trashed=False\"}).GetList()\n",
    "#print(file_list)\n",
    "try:\n",
    "    for file1 in file_list:\n",
    "        if file1['title'] == 'BATERIAS.zip':\n",
    "            print('passou')\n",
    "            file1.Delete()\n",
    "        #else:\n",
    "        #    f = drive.CreateFile()\n",
    "        #    f.SetContentFile(file)\n",
    "        #    f.Upload()\n",
    "except:\n",
    "    pass\n",
    "\n",
    "file2 = drive.CreateFile({'title': 'BATERIAS.zip'})\n",
    "file2.SetContentFile('C:\\\\MyPhytonPrivado\\\\MyNotes\\\\notebook\\\\BATERIAS.zip')\n",
    "file2.Upload()"
   ]
  },
  {
   "cell_type": "code",
   "execution_count": null,
   "metadata": {},
   "outputs": [],
   "source": []
  }
 ],
 "metadata": {
  "kernelspec": {
   "display_name": "Python 3",
   "language": "python",
   "name": "python3"
  },
  "language_info": {
   "codemirror_mode": {
    "name": "ipython",
    "version": 3
   },
   "file_extension": ".py",
   "mimetype": "text/x-python",
   "name": "python",
   "nbconvert_exporter": "python",
   "pygments_lexer": "ipython3",
   "version": "3.7.6"
  }
 },
 "nbformat": 4,
 "nbformat_minor": 4
}
