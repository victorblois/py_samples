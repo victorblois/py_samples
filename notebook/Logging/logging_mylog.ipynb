{
 "cells": [
  {
   "cell_type": "code",
   "execution_count": 8,
   "metadata": {},
   "outputs": [],
   "source": [
    "import import_ipynb\n",
    "import logging "
   ]
  },
  {
   "cell_type": "code",
   "execution_count": 9,
   "metadata": {},
   "outputs": [],
   "source": [
    "import os.path\n",
    "def path_base(base_name):\n",
    "    current_dir = os.path.abspath(os.path.join(os.getcwd(), os.pardir))\n",
    "    data_dir = current_dir.replace('notebook','log')\n",
    "    data_base = data_dir + '\\\\' + base_name\n",
    "    return data_base"
   ]
  },
  {
   "cell_type": "code",
   "execution_count": 10,
   "metadata": {},
   "outputs": [],
   "source": [
    "format = '%(asctime)s - %(name)s - %(levelname)s - %(message)s'\n",
    "logging.basicConfig(filename=path_base('mylog.log'), level=logging.DEBUG, filemode=\"w\", format=format, datefmt=\"%d/%m/%Y %I:%M:%S %p\")"
   ]
  },
  {
   "cell_type": "code",
   "execution_count": 11,
   "metadata": {},
   "outputs": [],
   "source": [
    "def logInfo(msg):\n",
    "    logger = logging.getLogger(__name__)\n",
    "    logger.info(msg)\n",
    "    \n",
    "def logWarning(msg):\n",
    "    logger = logging.getLogger(__name__)\n",
    "    logger.warning(msg)  \n",
    "    \n",
    "def logError(msg):\n",
    "    logger = logging.getLogger(__name__)\n",
    "    logger.erro(msg)  \n",
    "    \n",
    "def logException(e):\n",
    "    logger = logging.getLogger(__name__)\n",
    "    logger.exception('Error:' + e)  \n",
    "\n",
    "def logDebug(msg):\n",
    "    logger = logging.getLogger(__name__)\n",
    "    logger.debug(msg) "
   ]
  },
  {
   "cell_type": "code",
   "execution_count": null,
   "metadata": {},
   "outputs": [],
   "source": []
  }
 ],
 "metadata": {
  "kernelspec": {
   "display_name": "Python 3",
   "language": "python",
   "name": "python3"
  },
  "language_info": {
   "codemirror_mode": {
    "name": "ipython",
    "version": 3
   },
   "file_extension": ".py",
   "mimetype": "text/x-python",
   "name": "python",
   "nbconvert_exporter": "python",
   "pygments_lexer": "ipython3",
   "version": "3.7.6"
  }
 },
 "nbformat": 4,
 "nbformat_minor": 2
}
