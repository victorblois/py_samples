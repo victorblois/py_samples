{
 "cells": [
  {
   "cell_type": "code",
   "execution_count": 5,
   "metadata": {},
   "outputs": [],
   "source": [
    "import logging"
   ]
  },
  {
   "cell_type": "code",
   "execution_count": 6,
   "metadata": {},
   "outputs": [],
   "source": [
    "import os.path\n",
    "def path_base(base_name):\n",
    "    current_dir = os.path.abspath(os.path.join(os.getcwd(), os.pardir))\n",
    "    data_dir = current_dir.replace('notebook','log')\n",
    "    data_base = data_dir + '\\\\' + base_name\n",
    "    return data_base"
   ]
  },
  {
   "cell_type": "code",
   "execution_count": 7,
   "metadata": {},
   "outputs": [],
   "source": [
    "def execute():\n",
    "\tformat = '%(asctime)s - %(name)s - %(levelname)s - %(message)s'\n",
    "\tlogging.basicConfig(filename=path_base(\"hello.log\"), level=logging.DEBUG, filemode=\"w\", format=format, datefmt=\"%d/%m/%Y %I:%M:%S %p\")\n",
    "\tlogger = logging.getLogger(__name__)\n",
    "\n",
    "\tlogger.info(\"Mensagem informativa\")\n",
    "\tlogger.debug(\"Mensagem de debug\")\n",
    "\tlogger.error(\"Um erro aconteceu.\")"
   ]
  },
  {
   "cell_type": "markdown",
   "metadata": {},
   "source": [
    "# Main "
   ]
  },
  {
   "cell_type": "code",
   "execution_count": 8,
   "metadata": {},
   "outputs": [],
   "source": [
    "if __name__ == '__main__':\n",
    "\texecute()"
   ]
  }
 ],
 "metadata": {
  "kernelspec": {
   "display_name": "Python 3",
   "language": "python",
   "name": "python3"
  },
  "language_info": {
   "codemirror_mode": {
    "name": "ipython",
    "version": 3
   },
   "file_extension": ".py",
   "mimetype": "text/x-python",
   "name": "python",
   "nbconvert_exporter": "python",
   "pygments_lexer": "ipython3",
   "version": "3.7.6"
  }
 },
 "nbformat": 4,
 "nbformat_minor": 2
}
