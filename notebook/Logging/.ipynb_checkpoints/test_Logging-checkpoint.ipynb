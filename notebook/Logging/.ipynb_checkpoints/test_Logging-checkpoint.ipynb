{
 "cells": [
  {
   "cell_type": "code",
   "execution_count": 1,
   "metadata": {},
   "outputs": [
    {
     "name": "stdout",
     "output_type": "stream",
     "text": [
      "importing Jupyter notebook from logging_hello.ipynb\n",
      "importing Jupyter notebook from logging_mylog.ipynb\n"
     ]
    }
   ],
   "source": [
    "import import_ipynb\n",
    "import logging_hello\n",
    "import logging_mylog\n",
    "import logging"
   ]
  },
  {
   "cell_type": "code",
   "execution_count": 2,
   "metadata": {},
   "outputs": [],
   "source": [
    "import os.path\n",
    "def path_base(base_name):\n",
    "    current_dir = os.path.abspath(os.path.join(os.getcwd(), os.pardir))\n",
    "    data_dir = current_dir.replace('notebook','log')\n",
    "    data_base = data_dir + '\\\\' + base_name\n",
    "    return data_base"
   ]
  },
  {
   "cell_type": "markdown",
   "metadata": {},
   "source": [
    "# Class Usuario"
   ]
  },
  {
   "cell_type": "code",
   "execution_count": 3,
   "metadata": {},
   "outputs": [],
   "source": [
    "class Usuario:\n",
    "\n",
    "    def __init__(self, usuario, senha):\n",
    "        \n",
    "        self.usuario = usuario\n",
    "        self.senha = senha\n",
    "        self.dict_user = {'1':'Thomas', '2':'Marcos', '3':'José', '4':'QualquerNome'}\n",
    "\n",
    "        format = '%(asctime)s - %(name)s - %(levelname)s - %(message)s'\n",
    "        logging.basicConfig(filename=path_base(\"usuario.log\"), level=logging.DEBUG, filemode=\"w\", format=format, datefmt=\"%d/%m/%Y %I:%M:%S %p\")\n",
    "        self.logger = logging.getLogger(__name__)\n",
    "        print('1')\n",
    "    def alterar_senha(self, nova_senha):\n",
    "        \n",
    "        self.senha = nova_senha\n",
    "        self.logger.info(\"Alterada a senha!!\")\n",
    "        print('2')\n",
    "    def autentica(self, usuario, senha):\n",
    "\n",
    "        if self.usuario != usuario or self.senha != senha:\n",
    "            self.logger.warning(\"Tentativa de acesso de inválida\")\n",
    "            return False\n",
    "        return True\n",
    "\n",
    "    def get_usuario_by_id(self, usuario_id):\n",
    "\n",
    "        user = self.dict_user.get(usuario_id, None)\n",
    "        if user is None:\n",
    "            self.logger.error(\"Usuario id não existe: usuario_id={0}\".format(usuario_id))\n",
    "            return None\n",
    "        return user\n",
    "\n",
    "    def abrir_arquivo_usuario(self):\n",
    "\n",
    "        try:\n",
    "            open('/path/to/does/not/exist', 'rb')\n",
    "        except (SystemExit, KeyboardInterrupt):\n",
    "            raise\n",
    "        except Exception as e:\n",
    "            self.logger.exception(\"Error:\")\n",
    "\n",
    "    def algoritimo_complex(self,items):\n",
    "        for i,item in enumerate(items):\n",
    "            #algotitimo_complex\n",
    "            self.logger.debug('{0} iterator,item={1}'.format(i,item))\n"
   ]
  },
  {
   "cell_type": "markdown",
   "metadata": {},
   "source": [
    "# Main"
   ]
  },
  {
   "cell_type": "code",
   "execution_count": 4,
   "metadata": {},
   "outputs": [
    {
     "name": "stdout",
     "output_type": "stream",
     "text": [
      "1\n",
      "2\n"
     ]
    }
   ],
   "source": [
    "if __name__ == '__main__':\n",
    "    user = Usuario(\"Thomas\",\"1234\")\n",
    "    user.alterar_senha(\"1255\")\n",
    "    user.autentica(\"Thomas\",\"3334\")\n",
    "    user.get_usuario_by_id(\"0\")\n",
    "    user.abrir_arquivo_usuario()\n",
    "    user.algoritimo_complex([1,2,3,4])\n",
    "    logging_mylog.logWarning('My Warning')\n",
    "    logging_mylog.logException('User Exception')\n",
    "    logging_hello.execute()"
   ]
  },
  {
   "cell_type": "code",
   "execution_count": null,
   "metadata": {},
   "outputs": [],
   "source": []
  }
 ],
 "metadata": {
  "kernelspec": {
   "display_name": "Python 3",
   "language": "python",
   "name": "python3"
  },
  "language_info": {
   "codemirror_mode": {
    "name": "ipython",
    "version": 3
   },
   "file_extension": ".py",
   "mimetype": "text/x-python",
   "name": "python",
   "nbconvert_exporter": "python",
   "pygments_lexer": "ipython3",
   "version": "3.7.6"
  }
 },
 "nbformat": 4,
 "nbformat_minor": 2
}
