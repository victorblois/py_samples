{
 "cells": [
  {
   "cell_type": "markdown",
   "metadata": {},
   "source": [
    "# DATETIME"
   ]
  },
  {
   "cell_type": "markdown",
   "metadata": {},
   "source": [
    "#### Format codes"
   ]
  },
  {
   "cell_type": "markdown",
   "metadata": {},
   "source": [
    "Directive|Description|Example\n",
    "---|:---|:---\n",
    "%a\t|\tWeekday, short version\t|\tWed\n",
    "%A\t|\tWeekday, full version\t|\tWednesday\n",
    "%w\t|\tWeekday as a number 0-6, 0 is Sunday\t|\t3\n",
    "%d\t|\tDay of month 01-31\t|\t31\n",
    "%b\t|\tMonth name, short version\t|\tDec\n",
    "%B\t|\tMonth name, full version\t|\tDecember\n",
    "%m\t|\tMonth as a number 01-12\t|\t12\n",
    "%y\t|\tYear, short version, without century\t|\t18\n",
    "%Y\t|\tYear, full version\t|\t2018\n",
    "%H\t|\tHour 00-23\t|\t17\n",
    "%I\t|\tHour 00-12\t|\t5\n",
    "%p\t|\tAM/PM\t|\tPM\n",
    "%M\t|\tMinute 00-59\t|\t41\n",
    "%S\t|\tSecond 00-59\t|\t8\n",
    "%f\t|\tMicrosecond 000000-999999\t|\t548513\n",
    "%z\t|\tUTC offset\t|\t100\n",
    "%Z\t|\tTimezone\t|\tCST\n",
    "%j\t|\tDay number of year 001-366\t|\t365\n",
    "%U\t|\tWeek number of year, Sunday as the first day of week, 00-53\t|\t52\n",
    "%W\t|\tWeek number of year, Monday as the first day of week, 00-53\t|\t52\n",
    "%c\t|\tLocal version of date and time\t|\tMon Dec 31 17:41:00 2018\n",
    "%x\t|\tLocal version of date\t|\t12/31/18\n",
    "%X\t|\tLocal version of time\t|\t17:41:00\n",
    "%%\t|\tA % character\t|\t%"
   ]
  },
  {
   "cell_type": "code",
   "execution_count": 1,
   "metadata": {},
   "outputs": [],
   "source": [
    "from datetime import datetime\n",
    "dt = datetime(year=2020,month=6,day=2)"
   ]
  },
  {
   "cell_type": "code",
   "execution_count": 2,
   "metadata": {},
   "outputs": [
    {
     "name": "stdout",
     "output_type": "stream",
     "text": [
      "2020-06-02 00:00:00\n",
      "<class 'datetime.datetime'>\n"
     ]
    }
   ],
   "source": [
    "print(dt)\n",
    "print(type(dt))"
   ]
  },
  {
   "cell_type": "code",
   "execution_count": 3,
   "metadata": {},
   "outputs": [],
   "source": [
    "from dateutil import parser\n",
    "date  = parser.parse('1st of May, 2020')"
   ]
  },
  {
   "cell_type": "code",
   "execution_count": 4,
   "metadata": {},
   "outputs": [
    {
     "name": "stdout",
     "output_type": "stream",
     "text": [
      "2020-05-01 00:00:00\n",
      "<class 'datetime.datetime'>\n"
     ]
    }
   ],
   "source": [
    "print(date)\n",
    "print(type(date))"
   ]
  },
  {
   "cell_type": "code",
   "execution_count": 5,
   "metadata": {},
   "outputs": [
    {
     "data": {
      "text/plain": [
       "array('2020-06-18', dtype='datetime64[D]')"
      ]
     },
     "execution_count": 5,
     "metadata": {},
     "output_type": "execute_result"
    }
   ],
   "source": [
    "import numpy as np\n",
    "date = np.array('2020-06-18',dtype = np.datetime64)\n",
    "date"
   ]
  },
  {
   "cell_type": "code",
   "execution_count": 6,
   "metadata": {},
   "outputs": [
    {
     "data": {
      "text/plain": [
       "array(['2020-06-18', '2020-06-19', '2020-06-20', '2020-06-21',\n",
       "       '2020-06-22', '2020-06-23', '2020-06-24', '2020-06-25',\n",
       "       '2020-06-26', '2020-06-27', '2020-06-28', '2020-06-29'],\n",
       "      dtype='datetime64[D]')"
      ]
     },
     "execution_count": 6,
     "metadata": {},
     "output_type": "execute_result"
    }
   ],
   "source": [
    "# add more dates in array\n",
    "date = date + np.arange(12)\n",
    "date"
   ]
  },
  {
   "cell_type": "code",
   "execution_count": null,
   "metadata": {},
   "outputs": [],
   "source": []
  }
 ],
 "metadata": {
  "kernelspec": {
   "display_name": "Python 3",
   "language": "python",
   "name": "python3"
  },
  "language_info": {
   "codemirror_mode": {
    "name": "ipython",
    "version": 3
   },
   "file_extension": ".py",
   "mimetype": "text/x-python",
   "name": "python",
   "nbconvert_exporter": "python",
   "pygments_lexer": "ipython3",
   "version": "3.7.6"
  }
 },
 "nbformat": 4,
 "nbformat_minor": 4
}
