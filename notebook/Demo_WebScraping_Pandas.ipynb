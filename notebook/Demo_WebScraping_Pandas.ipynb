{
 "cells": [
  {
   "cell_type": "code",
   "execution_count": 1,
   "metadata": {},
   "outputs": [],
   "source": [
    "import numpy as np\n",
    "import pandas as pd\n",
    "pd.set_option('precision',4)\n",
    "pd.set_option('display.float_format', lambda x: '%.3f' % x)\n",
    "pd.set_option('display.max_rows', 500)\n",
    "pd.set_option('display.max_columns', 500)\n",
    "pd.set_option('display.width', 1000)\n",
    "import warnings\n",
    "warnings.filterwarnings('ignore')"
   ]
  },
  {
   "cell_type": "code",
   "execution_count": 2,
   "metadata": {},
   "outputs": [],
   "source": [
    "lista_de_coisas = pd.read_html(\"https://coinmarketcap.com/currencies/bitcoin/historical-data/?start=20130428&end=20200423\")"
   ]
  },
  {
   "cell_type": "code",
   "execution_count": 3,
   "metadata": {},
   "outputs": [
    {
     "data": {
      "text/plain": [
       "list"
      ]
     },
     "execution_count": 3,
     "metadata": {},
     "output_type": "execute_result"
    }
   ],
   "source": [
    "type(lista_de_coisas)"
   ]
  },
  {
   "cell_type": "code",
   "execution_count": 4,
   "metadata": {},
   "outputs": [
    {
     "data": {
      "text/plain": [
       "4"
      ]
     },
     "execution_count": 4,
     "metadata": {},
     "output_type": "execute_result"
    }
   ],
   "source": [
    "len(lista_de_coisas)"
   ]
  },
  {
   "cell_type": "code",
   "execution_count": 5,
   "metadata": {},
   "outputs": [
    {
     "data": {
      "text/html": [
       "<div>\n",
       "<style scoped>\n",
       "    .dataframe tbody tr th:only-of-type {\n",
       "        vertical-align: middle;\n",
       "    }\n",
       "\n",
       "    .dataframe tbody tr th {\n",
       "        vertical-align: top;\n",
       "    }\n",
       "\n",
       "    .dataframe thead th {\n",
       "        text-align: right;\n",
       "    }\n",
       "</style>\n",
       "<table border=\"1\" class=\"dataframe\">\n",
       "  <thead>\n",
       "    <tr style=\"text-align: right;\">\n",
       "      <th></th>\n",
       "      <th>Date</th>\n",
       "      <th>Open*</th>\n",
       "      <th>High</th>\n",
       "      <th>Low</th>\n",
       "      <th>Close**</th>\n",
       "      <th>Volume</th>\n",
       "      <th>Market Cap</th>\n",
       "    </tr>\n",
       "  </thead>\n",
       "  <tbody>\n",
       "    <tr>\n",
       "      <th>0</th>\n",
       "      <td>Apr 24, 2020</td>\n",
       "      <td>7434.180</td>\n",
       "      <td>7574.200</td>\n",
       "      <td>7434.180</td>\n",
       "      <td>7550.900</td>\n",
       "      <td>34636526286</td>\n",
       "      <td>138512029491</td>\n",
       "    </tr>\n",
       "    <tr>\n",
       "      <th>1</th>\n",
       "      <td>Apr 23, 2020</td>\n",
       "      <td>7121.310</td>\n",
       "      <td>7491.780</td>\n",
       "      <td>7081.590</td>\n",
       "      <td>7429.720</td>\n",
       "      <td>43500782316</td>\n",
       "      <td>136275638031</td>\n",
       "    </tr>\n",
       "    <tr>\n",
       "      <th>2</th>\n",
       "      <td>Apr 22, 2020</td>\n",
       "      <td>6879.440</td>\n",
       "      <td>7145.870</td>\n",
       "      <td>6867.780</td>\n",
       "      <td>7117.210</td>\n",
       "      <td>33249153866</td>\n",
       "      <td>130530916077</td>\n",
       "    </tr>\n",
       "    <tr>\n",
       "      <th>3</th>\n",
       "      <td>Apr 21, 2020</td>\n",
       "      <td>6879.780</td>\n",
       "      <td>6934.550</td>\n",
       "      <td>6834.440</td>\n",
       "      <td>6880.320</td>\n",
       "      <td>32589741511</td>\n",
       "      <td>126175238603</td>\n",
       "    </tr>\n",
       "    <tr>\n",
       "      <th>4</th>\n",
       "      <td>Apr 20, 2020</td>\n",
       "      <td>7186.870</td>\n",
       "      <td>7240.290</td>\n",
       "      <td>6835.500</td>\n",
       "      <td>6881.960</td>\n",
       "      <td>37747113936</td>\n",
       "      <td>126192239912</td>\n",
       "    </tr>\n",
       "    <tr>\n",
       "      <th>...</th>\n",
       "      <td>...</td>\n",
       "      <td>...</td>\n",
       "      <td>...</td>\n",
       "      <td>...</td>\n",
       "      <td>...</td>\n",
       "      <td>...</td>\n",
       "      <td>...</td>\n",
       "    </tr>\n",
       "    <tr>\n",
       "      <th>2549</th>\n",
       "      <td>May 02, 2013</td>\n",
       "      <td>116.380</td>\n",
       "      <td>125.600</td>\n",
       "      <td>92.280</td>\n",
       "      <td>105.210</td>\n",
       "      <td>0</td>\n",
       "      <td>1168517495</td>\n",
       "    </tr>\n",
       "    <tr>\n",
       "      <th>2550</th>\n",
       "      <td>May 01, 2013</td>\n",
       "      <td>139.000</td>\n",
       "      <td>139.890</td>\n",
       "      <td>107.720</td>\n",
       "      <td>116.990</td>\n",
       "      <td>0</td>\n",
       "      <td>1298954594</td>\n",
       "    </tr>\n",
       "    <tr>\n",
       "      <th>2551</th>\n",
       "      <td>Apr 30, 2013</td>\n",
       "      <td>144.000</td>\n",
       "      <td>146.930</td>\n",
       "      <td>134.050</td>\n",
       "      <td>139.000</td>\n",
       "      <td>0</td>\n",
       "      <td>1542813125</td>\n",
       "    </tr>\n",
       "    <tr>\n",
       "      <th>2552</th>\n",
       "      <td>Apr 29, 2013</td>\n",
       "      <td>134.440</td>\n",
       "      <td>147.490</td>\n",
       "      <td>134.000</td>\n",
       "      <td>144.540</td>\n",
       "      <td>0</td>\n",
       "      <td>1603768865</td>\n",
       "    </tr>\n",
       "    <tr>\n",
       "      <th>2553</th>\n",
       "      <td>Apr 28, 2013</td>\n",
       "      <td>135.300</td>\n",
       "      <td>135.980</td>\n",
       "      <td>132.100</td>\n",
       "      <td>134.210</td>\n",
       "      <td>0</td>\n",
       "      <td>1488566728</td>\n",
       "    </tr>\n",
       "  </tbody>\n",
       "</table>\n",
       "<p>2554 rows × 7 columns</p>\n",
       "</div>"
      ],
      "text/plain": [
       "              Date    Open*     High      Low  Close**       Volume    Market Cap\n",
       "0     Apr 24, 2020 7434.180 7574.200 7434.180 7550.900  34636526286  138512029491\n",
       "1     Apr 23, 2020 7121.310 7491.780 7081.590 7429.720  43500782316  136275638031\n",
       "2     Apr 22, 2020 6879.440 7145.870 6867.780 7117.210  33249153866  130530916077\n",
       "3     Apr 21, 2020 6879.780 6934.550 6834.440 6880.320  32589741511  126175238603\n",
       "4     Apr 20, 2020 7186.870 7240.290 6835.500 6881.960  37747113936  126192239912\n",
       "...            ...      ...      ...      ...      ...          ...           ...\n",
       "2549  May 02, 2013  116.380  125.600   92.280  105.210            0    1168517495\n",
       "2550  May 01, 2013  139.000  139.890  107.720  116.990            0    1298954594\n",
       "2551  Apr 30, 2013  144.000  146.930  134.050  139.000            0    1542813125\n",
       "2552  Apr 29, 2013  134.440  147.490  134.000  144.540            0    1603768865\n",
       "2553  Apr 28, 2013  135.300  135.980  132.100  134.210            0    1488566728\n",
       "\n",
       "[2554 rows x 7 columns]"
      ]
     },
     "execution_count": 5,
     "metadata": {},
     "output_type": "execute_result"
    }
   ],
   "source": [
    "lista_de_coisas[2]"
   ]
  },
  {
   "cell_type": "code",
   "execution_count": 5,
   "metadata": {},
   "outputs": [],
   "source": [
    "lista_de_coisas[2].to_csv('celso.csv', index=False)"
   ]
  },
  {
   "cell_type": "code",
   "execution_count": null,
   "metadata": {},
   "outputs": [],
   "source": []
  },
  {
   "cell_type": "code",
   "execution_count": null,
   "metadata": {},
   "outputs": [],
   "source": []
  }
 ],
 "metadata": {
  "kernelspec": {
   "display_name": "Python 3",
   "language": "python",
   "name": "python3"
  },
  "language_info": {
   "codemirror_mode": {
    "name": "ipython",
    "version": 3
   },
   "file_extension": ".py",
   "mimetype": "text/x-python",
   "name": "python",
   "nbconvert_exporter": "python",
   "pygments_lexer": "ipython3",
   "version": "3.7.6"
  }
 },
 "nbformat": 4,
 "nbformat_minor": 4
}
